{
  "nbformat": 4,
  "nbformat_minor": 0,
  "metadata": {
    "colab": {
      "provenance": []
    },
    "kernelspec": {
      "name": "python3",
      "display_name": "Python 3"
    },
    "language_info": {
      "name": "python"
    }
  },
  "cells": [
    {
      "cell_type": "code",
      "execution_count": 187,
      "metadata": {
        "id": "N6IiWnrybXpr",
        "colab": {
          "base_uri": "https://localhost:8080/"
        },
        "outputId": "3ec27991-8d73-428d-89cd-f58398c48b4d"
      },
      "outputs": [
        {
          "output_type": "stream",
          "name": "stdout",
          "text": [
            "--2023-05-09 17:21:40--  http://yann.lecun.com/exdb/mnist/train-images-idx3-ubyte.gz\n",
            "Resolving yann.lecun.com (yann.lecun.com)... 172.67.171.76, 104.21.29.36, 2606:4700:3034::6815:1d24, ...\n",
            "Connecting to yann.lecun.com (yann.lecun.com)|172.67.171.76|:80... connected.\n",
            "HTTP request sent, awaiting response... 200 OK\n",
            "Length: 9912422 (9.5M) [application/x-gzip]\n",
            "Saving to: ‘train-images-idx3-ubyte.gz.10’\n",
            "\n",
            "\r          train-ima   0%[                    ]       0  --.-KB/s               \rtrain-images-idx3-u 100%[===================>]   9.45M  --.-KB/s    in 0.06s   \n",
            "\n",
            "2023-05-09 17:21:40 (157 MB/s) - ‘train-images-idx3-ubyte.gz.10’ saved [9912422/9912422]\n",
            "\n",
            "--2023-05-09 17:21:40--  http://yann.lecun.com/exdb/mnist/train-labels-idx1-ubyte.gz\n",
            "Resolving yann.lecun.com (yann.lecun.com)... 172.67.171.76, 104.21.29.36, 2606:4700:3034::6815:1d24, ...\n",
            "Connecting to yann.lecun.com (yann.lecun.com)|172.67.171.76|:80... connected.\n",
            "HTTP request sent, awaiting response... 200 OK\n",
            "Length: 28881 (28K) [application/x-gzip]\n",
            "Saving to: ‘train-labels-idx1-ubyte.gz.10’\n",
            "\n",
            "train-labels-idx1-u 100%[===================>]  28.20K  --.-KB/s    in 0s      \n",
            "\n",
            "2023-05-09 17:21:40 (195 MB/s) - ‘train-labels-idx1-ubyte.gz.10’ saved [28881/28881]\n",
            "\n",
            "--2023-05-09 17:21:40--  http://yann.lecun.com/exdb/mnist/t10k-images-idx3-ubyte.gz\n",
            "Resolving yann.lecun.com (yann.lecun.com)... 172.67.171.76, 104.21.29.36, 2606:4700:3034::6815:1d24, ...\n",
            "Connecting to yann.lecun.com (yann.lecun.com)|172.67.171.76|:80... connected.\n",
            "HTTP request sent, awaiting response... 200 OK\n",
            "Length: 1648877 (1.6M) [application/x-gzip]\n",
            "Saving to: ‘t10k-images-idx3-ubyte.gz.10’\n",
            "\n",
            "t10k-images-idx3-ub 100%[===================>]   1.57M  --.-KB/s    in 0.04s   \n",
            "\n",
            "2023-05-09 17:21:40 (37.9 MB/s) - ‘t10k-images-idx3-ubyte.gz.10’ saved [1648877/1648877]\n",
            "\n",
            "--2023-05-09 17:21:41--  http://yann.lecun.com/exdb/mnist/t10k-labels-idx1-ubyte.gz\n",
            "Resolving yann.lecun.com (yann.lecun.com)... 172.67.171.76, 104.21.29.36, 2606:4700:3034::6815:1d24, ...\n",
            "Connecting to yann.lecun.com (yann.lecun.com)|172.67.171.76|:80... connected.\n",
            "HTTP request sent, awaiting response... 200 OK\n",
            "Length: 4542 (4.4K) [application/x-gzip]\n",
            "Saving to: ‘t10k-labels-idx1-ubyte.gz.10’\n",
            "\n",
            "t10k-labels-idx1-ub 100%[===================>]   4.44K  --.-KB/s    in 0s      \n",
            "\n",
            "2023-05-09 17:21:41 (428 MB/s) - ‘t10k-labels-idx1-ubyte.gz.10’ saved [4542/4542]\n",
            "\n"
          ]
        }
      ],
      "source": [
        "import tensorflow as tf\n",
        "from tensorflow import keras\n",
        "from tensorflow.keras import layers\n",
        "#from tensorflow.keras.datasets import mnist\n",
        "#(train_images, train_labels), (test_images, test_labels) = mnist.load_data()\n",
        "# Base de dados local\n",
        "import gzip\n",
        "import numpy as np\n",
        "\n",
        "# Baixar o arquivo zip contendo os dados do MNIST\n",
        "!wget http://yann.lecun.com/exdb/mnist/train-images-idx3-ubyte.gz\n",
        "!wget http://yann.lecun.com/exdb/mnist/train-labels-idx1-ubyte.gz\n",
        "!wget http://yann.lecun.com/exdb/mnist/t10k-images-idx3-ubyte.gz\n",
        "!wget http://yann.lecun.com/exdb/mnist/t10k-labels-idx1-ubyte.gz\n",
        "\n"
      ]
    },
    {
      "cell_type": "code",
      "source": [
        "# Carregar o conjunto de dados MNIST\n",
        "train_images_file = 'train-images-idx3-ubyte.gz'\n",
        "train_labels_file = 'train-labels-idx1-ubyte.gz'\n",
        "test_images_file = 't10k-images-idx3-ubyte.gz'\n",
        "test_labels_file = 't10k-labels-idx1-ubyte.gz'\n",
        "\n",
        "with gzip.open(train_images_file, 'rb') as f:\n",
        "    train_images = np.frombuffer(f.read(), np.uint8, offset=16).reshape(-1, 784).astype(np.float32) / 255.0\n",
        "\n",
        "with gzip.open(train_labels_file, 'rb') as f:\n",
        "    train_labels = np.frombuffer(f.read(), np.uint8, offset=8)\n",
        "\n",
        "with gzip.open(test_images_file, 'rb') as f:\n",
        "    test_images = np.frombuffer(f.read(), np.uint8, offset=16).reshape(-1, 784).astype(np.float32) / 255.0\n",
        "\n",
        "with gzip.open(test_labels_file, 'rb') as f:\n",
        "    test_labels = np.frombuffer(f.read(), np.uint8, offset=8)"
      ],
      "metadata": {
        "id": "W2enRWtfyn-6"
      },
      "execution_count": 188,
      "outputs": []
    },
    {
      "cell_type": "code",
      "source": [
        "#Normalizando as imagens\n",
        "train_images = train_images.reshape((60000, 28 * 28))\n",
        "train_images = train_images.astype(\"float32\") / 255\n",
        "test_images = test_images.reshape((10000, 28 * 28))\n",
        "test_images = test_images.astype(\"float32\") / 255"
      ],
      "metadata": {
        "id": "oGlkliSUi7ot"
      },
      "execution_count": 189,
      "outputs": []
    },
    {
      "cell_type": "code",
      "source": [
        "# Converte as saídas em formato one-hot encoding\n",
        "train_labels = tf.keras.utils.to_categorical(train_labels)\n",
        "test_labels = tf.keras.utils.to_categorical(test_labels)\n"
      ],
      "metadata": {
        "id": "LQ_m57ukrSk0"
      },
      "execution_count": 190,
      "outputs": []
    },
    {
      "cell_type": "code",
      "source": [
        "#Rede neural \n",
        "model = tf.keras.Sequential([\n",
        "    tf.keras.layers.Dense(512, activation=\"relu\"),\n",
        "    #tf.keras.layers.Dropout(0.2),\n",
        "    tf.keras.layers.Dense(256, activation='relu'),\n",
        "    #tf.keras.layers.Dropout(0.2),\n",
        "    tf.keras.layers.Dense(128, activation='relu'),\n",
        "    #tf.keras.layers.Dropout(0.2),\n",
        "    tf.keras.layers.Dense(10, activation=\"softmax\")\n",
        "])"
      ],
      "metadata": {
        "id": "ahDOnrzvf0PV"
      },
      "execution_count": 197,
      "outputs": []
    },
    {
      "cell_type": "code",
      "source": [
        "#Compilação do modelo\n",
        "model.compile(optimizer=\"rmsprop\",\n",
        "                       loss=\"categorical_crossentropy\",\n",
        "                       metrics=[\"accuracy\"])"
      ],
      "metadata": {
        "id": "XkggT9gIiFg7"
      },
      "execution_count": 198,
      "outputs": []
    },
    {
      "cell_type": "code",
      "source": [
        "#Treinamento do modelo \n",
        "model.fit(train_images, train_labels, epochs=5, batch_size=128)\n",
        "#Avaliando o modelo\n",
        "test_loss, test_acc = model.evaluate(test_images, test_labels)\n",
        "print(f\"test_acc: {test_acc}\")\n"
      ],
      "metadata": {
        "colab": {
          "base_uri": "https://localhost:8080/"
        },
        "id": "fLTBB7dEkX7R",
        "outputId": "361b8f0b-6fb4-4b5f-c9eb-1616949a0f9a"
      },
      "execution_count": 201,
      "outputs": [
        {
          "output_type": "stream",
          "name": "stdout",
          "text": [
            "Epoch 1/5\n",
            "469/469 [==============================] - 8s 17ms/step - loss: 0.1000 - accuracy: 0.9694\n",
            "Epoch 2/5\n",
            "469/469 [==============================] - 7s 14ms/step - loss: 0.0920 - accuracy: 0.9713\n",
            "Epoch 3/5\n",
            "469/469 [==============================] - 8s 17ms/step - loss: 0.0828 - accuracy: 0.9747\n",
            "Epoch 4/5\n",
            "469/469 [==============================] - 7s 15ms/step - loss: 0.0763 - accuracy: 0.9768\n",
            "Epoch 5/5\n",
            "469/469 [==============================] - 8s 17ms/step - loss: 0.0715 - accuracy: 0.9778\n",
            "313/313 [==============================] - 1s 4ms/step - loss: 0.0925 - accuracy: 0.9730\n",
            "test_acc: 0.9729999899864197\n"
          ]
        }
      ]
    }
  ]
}